{
 "cells": [
  {
   "cell_type": "code",
   "execution_count": 1,
   "metadata": {},
   "outputs": [],
   "source": [
    "import numpy as np\n",
    "import pandas as pd\n",
    "import pickle\n",
    "\n",
    "from sklearn.model_selection import train_test_split\n",
    "from sklearn.preprocessing import MinMaxScaler\n",
    "from sklearn.utils import resample\n",
    "from sklearn.metrics import classification_report\n",
    "\n",
    "from sklearn.ensemble import RandomForestClassifier"
   ]
  },
  {
   "cell_type": "code",
   "execution_count": 2,
   "metadata": {},
   "outputs": [],
   "source": [
    "    with open('features.pkl', 'rb') as file:\n",
    "        X = pickle.load(file)\n",
    "    X=np.array(X)\n",
    "\n",
    "    with open('labels.pkl', 'rb') as file:\n",
    "        Y = pickle.load(file)\n",
    "    Y=np.array(Y)"
   ]
  },
  {
   "cell_type": "code",
   "execution_count": null,
   "metadata": {},
   "outputs": [
    {
     "name": "stdout",
     "output_type": "stream",
     "text": [
      "y0\n",
      "              precision    recall  f1-score   support\n",
      "\n",
      "           0       0.99      0.90      0.94      2538\n",
      "           1       0.90      0.99      0.94      2488\n",
      "\n",
      "    accuracy                           0.94      5026\n",
      "   macro avg       0.95      0.94      0.94      5026\n",
      "weighted avg       0.95      0.94      0.94      5026\n",
      "\n",
      "y1\n",
      "              precision    recall  f1-score   support\n",
      "\n",
      "           0       0.98      0.89      0.93      2557\n",
      "           1       0.89      0.98      0.94      2442\n",
      "\n",
      "    accuracy                           0.93      4999\n",
      "   macro avg       0.94      0.94      0.93      4999\n",
      "weighted avg       0.94      0.93      0.93      4999\n",
      "\n",
      "y2\n",
      "              precision    recall  f1-score   support\n",
      "\n",
      "           0       1.00      0.93      0.96      2588\n",
      "           1       0.93      1.00      0.96      2615\n",
      "\n",
      "    accuracy                           0.96      5203\n",
      "   macro avg       0.96      0.96      0.96      5203\n",
      "weighted avg       0.96      0.96      0.96      5203\n",
      "\n",
      "y3\n",
      "              precision    recall  f1-score   support\n",
      "\n",
      "           0       0.96      0.85      0.90      2381\n",
      "           1       0.86      0.96      0.91      2385\n",
      "\n",
      "    accuracy                           0.91      4766\n",
      "   macro avg       0.91      0.91      0.90      4766\n",
      "weighted avg       0.91      0.91      0.90      4766\n",
      "\n",
      "y4\n"
     ]
    }
   ],
   "source": [
    "columns_y=['y0','y1','y2','y3','y4','y5','y6','y7','y8','y9']\n",
    "y_df=pd.DataFrame(Y,columns=columns_y)\n",
    "    \n",
    "columns_x=['age','gender','income','became_member_on']\n",
    "x_df=pd.DataFrame(X,columns=columns_x)\n",
    "    \n",
    "for col in columns_y:\n",
    "    \n",
    "    print(col)\n",
    "    table=pd.concat([x_df,y_df[col]],axis=1)\n",
    "    df_majority = table[table[col]==0]\n",
    "    df_minority = table[table[col]==1]\n",
    "    \n",
    "    # Upsample minority class\n",
    "    df_minority_upsampled = resample(df_minority, \n",
    "                                     replace=True,   # sample with replacement\n",
    "                                     n_samples=df_majority.shape[0]  # to match majority class\n",
    "                                ) \n",
    " \n",
    "    # Combine majority class with upsampled minority class\n",
    "    table = pd.concat([df_majority, df_minority_upsampled])\n",
    "    \n",
    "    scaler=MinMaxScaler()\n",
    "    rescaled_data=scaler.fit_transform(table[columns_x])\n",
    "    X_train, X_test, y_train, y_test = train_test_split(rescaled_data,\\\n",
    "                                                        table[col], test_size=0.2)\n",
    "\n",
    "    y_test=np.array(y_test)\n",
    "    y_train=np.array(y_train)\n",
    "\n",
    "    clf = RandomForestClassifier(n_estimators=50)\n",
    "\n",
    "    clf.fit(X_train, y_train)\n",
    "    \n",
    "    #compute y_predicted\n",
    "    y_pred = clf.predict(X_test)\n",
    "    #compute metrics\n",
    "    print(classification_report(y_test,y_pred))\n",
    "    \n",
    "    name=col+'.pkl'\n",
    "    with open(name, 'wb') as file:\n",
    "        pickle.dump(clf, file)\n"
   ]
  },
  {
   "cell_type": "code",
   "execution_count": null,
   "metadata": {},
   "outputs": [],
   "source": []
  }
 ],
 "metadata": {
  "kernelspec": {
   "display_name": "Python 3",
   "language": "python",
   "name": "python3"
  },
  "language_info": {
   "codemirror_mode": {
    "name": "ipython",
    "version": 3
   },
   "file_extension": ".py",
   "mimetype": "text/x-python",
   "name": "python",
   "nbconvert_exporter": "python",
   "pygments_lexer": "ipython3",
   "version": "3.7.3"
  }
 },
 "nbformat": 4,
 "nbformat_minor": 4
}
