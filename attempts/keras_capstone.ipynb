{
 "cells": [
  {
   "cell_type": "code",
   "execution_count": null,
   "metadata": {},
   "outputs": [],
   "source": [
    "import numpy as np\n",
    "import pandas as pd\n",
    "import pickle\n",
    "\n",
    "import tensorflow as tf\n",
    "from tensorflow import keras\n",
    "from tensorflow.keras import layers\n",
    "\n",
    "from sklearn.model_selection import train_test_split\n",
    "from sklearn.model_selection import GridSearchCV\n",
    "from sklearn.preprocessing import MinMaxScaler\n",
    "from sklearn.utils import resample\n",
    "from sklearn.metrics import classification_report,accuracy_score\n",
    "\n",
    "tf.keras.backend.clear_session()  # For easy reset of notebook state."
   ]
  },
  {
   "cell_type": "code",
   "execution_count": null,
   "metadata": {},
   "outputs": [],
   "source": [
    "inputs = keras.Input(shape=(4,))"
   ]
  },
  {
   "cell_type": "code",
   "execution_count": null,
   "metadata": {},
   "outputs": [],
   "source": [
    "dense = layers.Dense(64, activation='relu')"
   ]
  },
  {
   "cell_type": "code",
   "execution_count": null,
   "metadata": {},
   "outputs": [],
   "source": [
    "x = dense(inputs)\n",
    "x = layers.Dense(32, activation='relu')(x)\n",
    "y0 = layers.Dense(1, activation='sigmoid')(x)\n",
    "y1 = layers.Dense(1, activation='sigmoid')(x)\n",
    "y2 = layers.Dense(1, activation='sigmoid')(x)\n",
    "y3 = layers.Dense(1, activation='sigmoid')(x)\n",
    "y4 = layers.Dense(1, activation='sigmoid')(x)\n",
    "y5 = layers.Dense(1, activation='sigmoid')(x)\n",
    "y6 = layers.Dense(1, activation='sigmoid')(x)\n",
    "y7 = layers.Dense(1, activation='sigmoid')(x)\n",
    "y8 = layers.Dense(1, activation='sigmoid')(x)\n",
    "y9 = layers.Dense(1, activation='sigmoid')(x)"
   ]
  },
  {
   "cell_type": "code",
   "execution_count": null,
   "metadata": {},
   "outputs": [],
   "source": [
    "model = keras.Model(inputs=inputs, outputs=[y0,y1,y2,y3,y4,y5,y6,y7,y8,y9], name='keras_model')"
   ]
  },
  {
   "cell_type": "code",
   "execution_count": null,
   "metadata": {},
   "outputs": [],
   "source": [
    "model.summary()"
   ]
  },
  {
   "cell_type": "code",
   "execution_count": null,
   "metadata": {},
   "outputs": [],
   "source": [
    "keras.utils.plot_model(model, 'my_keras_model.png', show_shapes=True)"
   ]
  },
  {
   "cell_type": "code",
   "execution_count": null,
   "metadata": {},
   "outputs": [],
   "source": []
  },
  {
   "cell_type": "code",
   "execution_count": null,
   "metadata": {},
   "outputs": [],
   "source": []
  },
  {
   "cell_type": "code",
   "execution_count": null,
   "metadata": {},
   "outputs": [],
   "source": []
  },
  {
   "cell_type": "code",
   "execution_count": null,
   "metadata": {},
   "outputs": [],
   "source": [
    "    with open('features.pkl', 'rb') as file:\n",
    "        X = pickle.load(file)\n",
    "        X=np.array(X)\n",
    "\n",
    "    with open('labels.pkl', 'rb') as file:\n",
    "        Y = pickle.load(file)\n",
    "        Y=np.array(Y)"
   ]
  },
  {
   "cell_type": "code",
   "execution_count": null,
   "metadata": {},
   "outputs": [],
   "source": [
    "def up_df(table,col):\n",
    "    \n",
    "    df_majority = table[table[col]==0]\n",
    "    df_minority = table[table[col]==1]\n",
    "    \n",
    "    # Upsample minority class\n",
    "    df_minority_upsampled = resample(df_minority, \n",
    "                                     replace=True,   # sample with replacement\n",
    "                                     n_samples=df_majority.shape[0]  # to match majority class\n",
    "                                ) \n",
    " \n",
    "    # Combine majority class with upsampled minority class\n",
    "    df_upsampled = pd.concat([df_majority, df_minority_upsampled])\n",
    "    \n",
    "    return df_upsampled"
   ]
  },
  {
   "cell_type": "code",
   "execution_count": null,
   "metadata": {},
   "outputs": [],
   "source": [
    "    columns_y=['y0','y1','y2','y3','y4','y5','y6','y7','y8','y9']\n",
    "    y_df=pd.DataFrame(Y,columns=columns_y)\n",
    "    \n",
    "    columns_x=['age','gender','income','became_member_on']\n",
    "    x_df=pd.DataFrame(X,columns=columns_x)\n",
    "    \n",
    "    table=pd.concat([x_df,y_df],axis=1)\n",
    "    \n",
    "    for col in columns_y:\n",
    "        table=up_df(table,col)\n",
    "    \n",
    "    # Display new class counts\n",
    "    #table['y0'].value_counts()\n",
    "    scaler=MinMaxScaler()\n",
    "    rescaled_data=scaler.fit_transform(table[columns_x])\n",
    "    X_train, X_test, y_train, y_test = train_test_split(rescaled_data,\\\n",
    "                                                        table[columns_y], test_size=0.2)"
   ]
  },
  {
   "cell_type": "code",
   "execution_count": null,
   "metadata": {},
   "outputs": [],
   "source": [
    "table['y9'].value_counts()"
   ]
  },
  {
   "cell_type": "code",
   "execution_count": null,
   "metadata": {},
   "outputs": [],
   "source": [
    "model.compile(optimizer=keras.optimizers.RMSprop(1e-3),\n",
    "              loss=[keras.losses.BinaryCrossentropy(from_logits=True),\n",
    "                    keras.losses.BinaryCrossentropy(from_logits=True),\n",
    "                    keras.losses.BinaryCrossentropy(from_logits=True),\n",
    "                    keras.losses.BinaryCrossentropy(from_logits=True),\n",
    "                    keras.losses.BinaryCrossentropy(from_logits=True),\n",
    "                    keras.losses.BinaryCrossentropy(from_logits=True),\n",
    "                    keras.losses.BinaryCrossentropy(from_logits=True),\n",
    "                    keras.losses.BinaryCrossentropy(from_logits=True),\n",
    "                    keras.losses.BinaryCrossentropy(from_logits=True),\n",
    "                    keras.losses.BinaryCrossentropy(from_logits=True)])"
   ]
  },
  {
   "cell_type": "code",
   "execution_count": null,
   "metadata": {},
   "outputs": [],
   "source": [
    "y_train=np.array(y_train)\n",
    "y0v=y_train[:,0]\n",
    "y1v=y_train[:,1]\n",
    "y2v=y_train[:,2]\n",
    "y3v=y_train[:,3]\n",
    "y4v=y_train[:,4]\n",
    "y5v=y_train[:,5]\n",
    "y6v=y_train[:,6]\n",
    "y7v=y_train[:,7]\n",
    "y8v=y_train[:,8]\n",
    "y9v=y_train[:,9]\n",
    "y_train=[y0v,y1v,y2v,y3v,y4v,y5v,y6v,y7v,y8v,y9v]"
   ]
  },
  {
   "cell_type": "code",
   "execution_count": null,
   "metadata": {},
   "outputs": [],
   "source": [
    "history = model.fit(X_train, y_train,\n",
    "                    batch_size=64,\n",
    "                    epochs=10,\n",
    "                    validation_split=0.2)"
   ]
  },
  {
   "cell_type": "code",
   "execution_count": null,
   "metadata": {},
   "outputs": [],
   "source": [
    "y_test=np.array(y_test)\n",
    "y0v=y_test[:,0]\n",
    "y1v=y_test[:,1]\n",
    "y2v=y_test[:,2]\n",
    "y3v=y_test[:,3]\n",
    "y4v=y_test[:,4]\n",
    "y5v=y_test[:,5]\n",
    "y6v=y_test[:,6]\n",
    "y7v=y_test[:,7]\n",
    "y8v=y_test[:,8]\n",
    "y9v=y_test[:,9]\n",
    "y_test=[y0v,y1v,y2v,y3v,y4v,y5v,y6v,y7v,y8v,y9v]"
   ]
  },
  {
   "cell_type": "code",
   "execution_count": null,
   "metadata": {},
   "outputs": [],
   "source": [
    "test_scores = model.evaluate(X_test, y_test, verbose=2)\n",
    "print('Test loss:', test_scores[0])\n",
    "print('Test accuracy:', test_scores[1])"
   ]
  },
  {
   "cell_type": "code",
   "execution_count": null,
   "metadata": {},
   "outputs": [],
   "source": [
    "predictions = model.predict(X_test)"
   ]
  },
  {
   "cell_type": "code",
   "execution_count": null,
   "metadata": {},
   "outputs": [],
   "source": [
    "    for i in range(10): \n",
    "        #print(i)\n",
    "        print('Column: {}'.format(i))\n",
    "        print(accuracy_score(y_test[i],\\\n",
    "                                    pd.Series(predictions[i].reshape(-1)).map(lambda x:1 if x==1 else 0)))\n",
    "        print(classification_report(y_test[i],\\\n",
    "                                    pd.Series(predictions[i].reshape(-1)).map(lambda x:1 if x==1 else 0)))\n"
   ]
  },
  {
   "cell_type": "code",
   "execution_count": null,
   "metadata": {},
   "outputs": [],
   "source": [
    "# Save the weights\n",
    "model.save_weights('my_model')\n",
    "# Create a new model instance\n",
    "model = create_model()\n",
    "\n",
    "# Restore the weights\n",
    "model.load_weights('./checkpoints/my_checkpoint')"
   ]
  },
  {
   "cell_type": "code",
   "execution_count": null,
   "metadata": {},
   "outputs": [],
   "source": []
  }
 ],
 "metadata": {
  "kernelspec": {
   "display_name": "Python 3",
   "language": "python",
   "name": "python3"
  },
  "language_info": {
   "codemirror_mode": {
    "name": "ipython",
    "version": 3
   },
   "file_extension": ".py",
   "mimetype": "text/x-python",
   "name": "python",
   "nbconvert_exporter": "python",
   "pygments_lexer": "ipython3",
   "version": "3.7.3"
  }
 },
 "nbformat": 4,
 "nbformat_minor": 4
}
