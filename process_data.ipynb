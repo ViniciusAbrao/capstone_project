{
 "cells": [
  {
   "cell_type": "code",
   "execution_count": 3,
   "metadata": {},
   "outputs": [],
   "source": [
    "import pandas as pd\n",
    "import matplotlib.pyplot as plt\n",
    "import numpy as np "
   ]
  },
  {
   "cell_type": "code",
   "execution_count": 4,
   "metadata": {},
   "outputs": [],
   "source": [
    "# read in the json files\n",
    "portfolio = pd.read_json('portfolio.json', orient='records', lines=True)\n",
    "profile = pd.read_json('profile.json', orient='records', lines=True)\n",
    "transcript = pd.read_json('transcript.json', orient='records', lines=True)"
   ]
  },
  {
   "cell_type": "markdown",
   "metadata": {},
   "source": [
    "# Exploratory analysis - Taking a look to the raw data:\n",
    "\n",
    "## transcript.json\n",
    "\n",
    "transcript.columns - ['event', 'person', 'time', 'value']\n",
    "\n",
    "event- ['offer received', 'offer viewed', 'transaction', 'offer completed']\n",
    "\n",
    "## protfolio.json\n",
    "\n",
    "portfolio.columns - ['channels', 'difficulty', 'duration', 'id', 'offer_type', 'reward']\n",
    "\n",
    "## profile.json\n",
    "\n",
    "profile.columns - ['age', 'became_member_on', 'gender', 'id', 'income']\n",
    "   \n",
    "\n",
    "\n"
   ]
  },
  {
   "cell_type": "code",
   "execution_count": 11,
   "metadata": {},
   "outputs": [
    {
     "name": "stdout",
     "output_type": "stream",
     "text": [
      "How many users with no info? \n",
      "\n",
      "age                 2175\n",
      "became_member_on    2175\n",
      "gender                 0\n",
      "id                  2175\n",
      "income                 0\n",
      "dtype: int64\n",
      "\n",
      " 2175 users with 118 years old, and no information of gender and no income\n"
     ]
    },
    {
     "data": {
      "image/png": "[encoded data removed]",
      "text/plain": [
       "<Figure size 432x288 with 1 Axes>"
      ]
     },
     "metadata": {
      "needs_background": "light"
     },
     "output_type": "display_data"
    }
   ],
   "source": [
    "#histogram of user's age\n",
    "plt.hist(profile['age'],bins=np.arange(profile['age'].max()+5))\n",
    "no_info=profile[profile['age']==118].count()\n",
    "\n",
    "print('How many users with no info? \\n')\n",
    "print(no_info)\n",
    "\n",
    "print('\\n 2175 users with 118 years old, and no information of gender and no income')\n"
   ]
  },
  {
   "cell_type": "code",
   "execution_count": 12,
   "metadata": {},
   "outputs": [
    {
     "name": "stdout",
     "output_type": "stream",
     "text": [
      "age                 17000\n",
      "became_member_on    17000\n",
      "gender              14825\n",
      "id                  17000\n",
      "income              14825\n",
      "dtype: int64\n",
      "\n",
      " We may consider to work only with 14825 users.\n"
     ]
    }
   ],
   "source": [
    "print(profile.count())\n",
    "print('\\n We may consider to work only with 14825 users.')"
   ]
  },
  {
   "cell_type": "code",
   "execution_count": 15,
   "metadata": {},
   "outputs": [
    {
     "name": "stdout",
     "output_type": "stream",
     "text": [
      "New profile shape:\n",
      "(14825, 5)\n"
     ]
    },
    {
     "data": {
      "image/png": "[encoded data removed]",
      "text/plain": [
       "<Figure size 432x288 with 1 Axes>"
      ]
     },
     "metadata": {
      "needs_background": "light"
     },
     "output_type": "display_data"
    }
   ],
   "source": [
    "#lets filter the profile data frame\n",
    "profile=profile[profile['age']!=118]\n",
    "print('New profile shape:')\n",
    "print(profile.shape)\n",
    "plt.figure()\n",
    "new_hist=plt.hist(profile['age'],bins=np.arange(profile['age'].max()+5))"
   ]
  },
  {
   "cell_type": "code",
   "execution_count": 19,
   "metadata": {},
   "outputs": [
    {
     "name": "stdout",
     "output_type": "stream",
     "text": [
      "How many different values of became_member_on?\n",
      "1707\n",
      "Looks like some users became member on the same day.\n"
     ]
    }
   ],
   "source": [
    "#taking a look at became_member_on columns:\n",
    "\n",
    "member_since=len(profile['became_member_on'].unique())\n",
    "print('How many different values of became_member_on?')\n",
    "print(member_since)\n",
    "print('Looks like some users became member on the same day.')\n"
   ]
  },
  {
   "cell_type": "code",
   "execution_count": 78,
   "metadata": {},
   "outputs": [
    {
     "name": "stdout",
     "output_type": "stream",
     "text": [
      "Became member on the same day?\n"
     ]
    },
    {
     "data": {
      "text/plain": [
       "became_member_on\n",
       "20170921    31\n",
       "20171217    31\n",
       "20171025    31\n",
       "20170911    31\n",
       "20171114    31\n",
       "20170815    31\n",
       "20170806    31\n",
       "20180120    31\n",
       "20170821    31\n",
       "20171113    32\n",
       "20171019    32\n",
       "20180109    32\n",
       "20171214    32\n",
       "20171121    32\n",
       "20171212    33\n",
       "20171010    34\n",
       "20180125    35\n",
       "20171207    36\n",
       "20171007    37\n",
       "20170819    39\n",
       "Name: id, dtype: int64"
      ]
     },
     "execution_count": 78,
     "metadata": {},
     "output_type": "execute_result"
    }
   ],
   "source": [
    "same_day_count=profile.groupby(by='became_member_on').count().sort_values(by='id')['id']\n",
    "print('Became member on the same day?')\n",
    "same_day_count.tail(20)\n"
   ]
  },
  {
   "cell_type": "code",
   "execution_count": 77,
   "metadata": {},
   "outputs": [
    {
     "name": "stdout",
     "output_type": "stream",
     "text": [
      "Users that became member on 20170819:\n",
      "\n",
      "       age  gender    income\n",
      "733     72       2   49000.0\n",
      "1715    40       1   69000.0\n",
      "2376    59       1  105000.0\n",
      "2581    47       2   62000.0\n",
      "3593    73       1   53000.0\n",
      "4002    32       2   71000.0\n",
      "4028    50       2   55000.0\n",
      "4124    38       2   86000.0\n",
      "4249    68       1  106000.0\n",
      "4947    70       2   51000.0\n",
      "5412    77       1  105000.0\n",
      "6349    83       2  110000.0\n",
      "6709    55       2   31000.0\n",
      "6773    70       2   67000.0\n",
      "7023    71       2   89000.0\n",
      "7344    59       2   67000.0\n",
      "8534    58       1   77000.0\n",
      "8702    63       2   31000.0\n",
      "9802    94       2   74000.0\n",
      "10022   33       1   30000.0\n",
      "10157   74       2   85000.0\n",
      "10877   82       1  115000.0\n",
      "11423   88       1  109000.0\n",
      "11438   36       2   45000.0\n",
      "11656   61       1   98000.0\n",
      "11761   46       2   47000.0\n",
      "11854   49       2   85000.0\n",
      "11931   46       1  100000.0\n",
      "13668   48       2   76000.0\n",
      "13792   46       2   62000.0\n",
      "13836   57       1   74000.0\n",
      "13961   51       2   58000.0\n",
      "13974   31       2   57000.0\n",
      "14116   37       2   51000.0\n",
      "14388   62       2   65000.0\n",
      "14486   29       2   41000.0\n",
      "14561   51       2   59000.0\n",
      "15409   52       2   47000.0\n",
      "16461   56       1  116000.0\n"
     ]
    }
   ],
   "source": [
    "print('Users that became member on 20170819:\\n')\n",
    "print(profile[profile['became_member_on']==20170819].loc[:,['age','gender','income']])"
   ]
  },
  {
   "cell_type": "code",
   "execution_count": 38,
   "metadata": {},
   "outputs": [
    {
     "name": "stdout",
     "output_type": "stream",
     "text": [
      "Percentage of data that have been filtered:\n",
      "0.11017374907840566\n",
      "\n",
      "How many transcripts remain?\n",
      "event     306534\n",
      "person    306534\n",
      "time      306534\n",
      "value     306534\n",
      "dtype: int64\n"
     ]
    }
   ],
   "source": [
    "#lets filter the transcript data frame to 14825 users with info\n",
    "filter_users=profile['id'].unique()\n",
    "filter_transcript=transcript[transcript['person'].isin(filter_users)]\n",
    "print('Percentage of data that have been filtered:')\n",
    "print((transcript.shape[0]-filter_transcript.shape[0])/transcript.shape[0])\n",
    "print('\\nHow many transcripts remain?')\n",
    "print(transcript.count())"
   ]
  },
  {
   "cell_type": "code",
   "execution_count": 41,
   "metadata": {},
   "outputs": [
    {
     "name": "stdout",
     "output_type": "stream",
     "text": [
      "How many cases of offer_completed for each offer_type?\n",
      "3657\n",
      "3310\n",
      "0\n",
      "4188\n",
      "3386\n",
      "4886\n",
      "5003\n",
      "0\n",
      "4103\n",
      "3911\n"
     ]
    }
   ],
   "source": [
    "#extract id from transcript['value'] in case of 'offer completed'\n",
    "event_completed=filter_transcript[filter_transcript['event']=='offer completed']\\\n",
    "    .loc[:,['event','time','value','person']]\n",
    "event_completed_values=list(event_completed['value'].values)\n",
    "extract_completed=(lambda x:x['offer_id'])\n",
    "ids=pd.Series(pd.Series(event_completed_values).map(extract_completed))\n",
    "print('How many cases of offer_completed for each offer_type?')\n",
    "print(len(ids[ids=='ae264e3637204a6fb9bb56bc8210ddfd']))\n",
    "print(len(ids[ids=='4d5c57ea9a6940dd891ad53e9dbe8da0']))\n",
    "print(len(ids[ids=='3f207df678b143eea3cee63160fa8bed']))\n",
    "print(len(ids[ids=='9b98b8c7a33c4b65b9aebfe6a799e6d9']))\n",
    "print(len(ids[ids=='0b1e1539f2cc45b7b9fa7c272da2e1d7']))\n",
    "print(len(ids[ids=='2298d6c36e964ae4a3e7e9706d1fb8c2']))\n",
    "print(len(ids[ids=='fafdcd668e3743c1bb461111dcafc2a4']))\n",
    "print(len(ids[ids=='5a8bc65990b245e5a138643cd4eb9837']))\n",
    "print(len(ids[ids=='f19421c1d4aa40978ebb69ca19b0e20d']))\n",
    "print(len(ids[ids=='2906b810c7d4411798c6938adc9daaa5']))"
   ]
  },
  {
   "cell_type": "code",
   "execution_count": 42,
   "metadata": {},
   "outputs": [
    {
     "name": "stdout",
     "output_type": "stream",
     "text": [
      "How many differente persons have offer_completed?\n",
      "11986\n"
     ]
    }
   ],
   "source": [
    "print('How many differente persons have offer_completed?')\n",
    "print(event_completed['person'].nunique())"
   ]
  },
  {
   "cell_type": "markdown",
   "metadata": {},
   "source": [
    "Informational does not have completed offer, since it finishes with a transaction\n",
    "inside the influence period.\n",
    "\n",
    "11986 from 14825 persons completed offer. \n",
    "Are they influenced by the offer? \n",
    "Did these customers view the offer? \n",
    "\n",
    "Let's take the filtered data and apply the user_evaluate function to each user \n",
    "in order to obtain the features and labels for the classification algorithm"
   ]
  },
  {
   "cell_type": "markdown",
   "metadata": {},
   "source": [
    "# Implementation of user_evaluate function:"
   ]
  },
  {
   "cell_type": "code",
   "execution_count": 44,
   "metadata": {},
   "outputs": [],
   "source": [
    "def user_evaluate(user):\n",
    "    \n",
    "    ''' \n",
    "The transcripts of a given user can fit into the following possible scenarios:  \n",
    "1-received an offer (bogo or discount), viewed, bought on time, completed an offer: y [i] = 1\n",
    "2-received an offer (informational), viewed, bought on time: y [i] = 1\n",
    "3-received an offer, viewed, bought (purchased late): y [:] = 0\n",
    "4-received an offer, viewed, did not buy, did not complete an offer: y [:] = 0\n",
    "5-received an offer, did not view, bought, completed offer: y [:] = 0\n",
    "6-received an offer, did not view, bought (purchased late): y [:] = 0\n",
    "7-received an offer, did not view, did not buy, did not complete an offer: y [:] = 0\n",
    "8-other cases : y[:]=0\n",
    "    \n",
    "y[i]=1 : i depends on which of the 10 possible offers (from the portfolio) that was received, as following index:\n",
    "\n",
    "\n",
    "      offer_type                                id      \n",
    "y[0]           bogo  ae264e3637204a6fb9bb56bc8210ddfd   \n",
    "y[1]           bogo  4d5c57ea9a6940dd891ad53e9dbe8da0   \n",
    "y[2]           bogo  9b98b8c7a33c4b65b9aebfe6a799e6d9   \n",
    "y[3]           bogo  f19421c1d4aa40978ebb69ca19b0e20d   \n",
    "y[4]       discount  0b1e1539f2cc45b7b9fa7c272da2e1d7   \n",
    "y[5]       discount  2298d6c36e964ae4a3e7e9706d1fb8c2   \n",
    "y[6]       discount  fafdcd668e3743c1bb461111dcafc2a4   \n",
    "y[7]       discount  2906b810c7d4411798c6938adc9daaa5   \n",
    "y[8]  informational  3f207df678b143eea3cee63160fa8bed   \n",
    "y[9]  informational  5a8bc65990b245e5a138643cd4eb9837   \n",
    "  \n",
    "Next, in the classification algorithm, different user profiles (features) are evaluated to predict which \n",
    "promotions (labels) are most suitable for that features.\n",
    "\n",
    "The following algorithm of user_evaluate function is according to:\n",
    "\n",
    "    Given an user id\n",
    "    Loop through the user`s transcript\n",
    "    If event = offer received \n",
    "        If offer type is bogo or discount\n",
    "            What is it period of influence?\n",
    "            Take the receipt date and compute the limit date to complete the offer\n",
    "            Loop through the next events \n",
    "                If the user viewed this promo\n",
    "                    Loop through the next events\n",
    "                        If this offer completed on time (limit date)\n",
    "                            y[i]=1\n",
    "        If offer type is informational\n",
    "            What is it period of influence?\n",
    "            Take the receipt date and compute the limit date to complete the offer\n",
    "            Loop through the next events \n",
    "                If the user viewed this informational\n",
    "                    Loop through the next events\n",
    "                        If transaction on time (limit date)\n",
    "                            y[i]=1\n",
    "    Add the user`s infos in the features list\n",
    "    Add the y vector in the labels list\n",
    "                            \n",
    "    '''\n",
    "    \n",
    "    teste=filter_transcript[filter_transcript['person']==user]\\\n",
    "            .loc[:,['event','time','value']].sort_values(by='time')         \n",
    "    y_user=[0,0,0,0,0,0,0,0,0,0]\n",
    "    cont=-1\n",
    "    for events in list(teste['event']):\n",
    "        cont=cont+1\n",
    "        if events=='offer received':\n",
    "            promo=list(teste['value'])[cont]['offer id']\n",
    "            if promo in list_promos:\n",
    "                duration=portfolio[portfolio['id']==promo]['duration']\\\n",
    "                    .values[0]*24 #now in hours\n",
    "                received_at=list(teste['time'])[cont] #hours\n",
    "                valid=received_at+duration\n",
    "                cont_two=cont-1\n",
    "                for events_two in (list(teste['event'])[cont:]):\n",
    "                    cont_two=cont_two+1\n",
    "                    if events_two=='offer viewed':\n",
    "                        promo_two=list(teste['value'])[cont_two]['offer id']\n",
    "                        if promo_two==promo:\n",
    "                            cont_three=cont_two-1\n",
    "                            for events_three in (list(teste['event'])[cont_two:]):\n",
    "                                cont_three=cont_three+1\n",
    "                                if events_three=='offer completed':\n",
    "                                    promo_three=list(teste['value'])[cont_three]['offer_id']\n",
    "                                    date_buy=list(teste['time'])[cont_three]\n",
    "                                    if promo_three==promo and date_buy<=valid:\n",
    "                                        indx=np.where(all_promos==promo)\n",
    "                                        y_user[indx[0][0]]=1    \n",
    "                                        break\n",
    "            if promo in list_informational:\n",
    "                duration=portfolio[portfolio['id']==promo]['duration']\\\n",
    "                    .values[0]*24 #now in hours\n",
    "                received_at=list(teste['time'])[cont] #hours\n",
    "                valid=received_at+duration\n",
    "                cont_two=cont-1\n",
    "                for events_two in (list(teste['event'])[cont:]):\n",
    "                    cont_two=cont_two+1\n",
    "                    if events_two=='offer viewed':\n",
    "                        promo_two=list(teste['value'])[cont_two]['offer id']\n",
    "                        if promo_two==promo:\n",
    "                            cont_three=cont_two-1\n",
    "                            for events_three in (list(teste['event'])[cont_two:]):\n",
    "                                cont_three=cont_three+1\n",
    "                                if events_three=='transaction': \n",
    "                                    date_buy=list(teste['time'])[cont_three]\n",
    "                                    if date_buy<=valid:\n",
    "                                        indx=np.where(all_promos==promo)\n",
    "                                        y_user[indx[0][0]]=1    \n",
    "                                        break\n",
    "    y_train_test.append(np.array(y_user))\n",
    "    x_train_test.append(np.array(profile[profile['id']==user]\\\n",
    "                                 .loc[:,['age','gender','income','became_member_on']]\\\n",
    "                                     .values[0]))"
   ]
  },
  {
   "cell_type": "code",
   "execution_count": 46,
   "metadata": {},
   "outputs": [],
   "source": [
    "list_promos=np.array(['ae264e3637204a6fb9bb56bc8210ddfd','4d5c57ea9a6940dd891ad53e9dbe8da0',\\\n",
    "           '9b98b8c7a33c4b65b9aebfe6a799e6d9','f19421c1d4aa40978ebb69ca19b0e20d',\\\n",
    "               '0b1e1539f2cc45b7b9fa7c272da2e1d7','2298d6c36e964ae4a3e7e9706d1fb8c2',\\\n",
    "                   'fafdcd668e3743c1bb461111dcafc2a4','2906b810c7d4411798c6938adc9daaa5',])\n",
    "list_informational=np.array(['3f207df678b143eea3cee63160fa8bed',\\\n",
    "                             '5a8bc65990b245e5a138643cd4eb9837'])   \n",
    "all_promos=np.array(['ae264e3637204a6fb9bb56bc8210ddfd','4d5c57ea9a6940dd891ad53e9dbe8da0',\\\n",
    "           '9b98b8c7a33c4b65b9aebfe6a799e6d9','f19421c1d4aa40978ebb69ca19b0e20d',\\\n",
    "               '0b1e1539f2cc45b7b9fa7c272da2e1d7','2298d6c36e964ae4a3e7e9706d1fb8c2',\\\n",
    "                   'fafdcd668e3743c1bb461111dcafc2a4','2906b810c7d4411798c6938adc9daaa5',\\\n",
    "                       '3f207df678b143eea3cee63160fa8bed',\\\n",
    "                           '5a8bc65990b245e5a138643cd4eb9837'])"
   ]
  },
  {
   "cell_type": "markdown",
   "metadata": {},
   "source": [
    "# Example of user_evaluate function results:"
   ]
  },
  {
   "cell_type": "code",
   "execution_count": 62,
   "metadata": {},
   "outputs": [],
   "source": [
    "'''\n",
    "more example users to test:\n",
    "'43fbc1418ee14268a5d3797006cc69be'\n",
    "'0610b486422d4921ae7d2bf64640c50b'\n",
    "'78afa995795e4d85b5d9ceeca43f5fef'\n",
    "'e2127556f4f64592b11af22de27a7932' \n",
    "'01d26f638c274aa0b965d24cefe3183f'\n",
    "'9dc1421481194dcd9400aec7c9ae6366'\n",
    "'e4052622e5ba45a8b96b59aba68cf068'  \n",
    "''' \n",
    "\n",
    "x_train_test=[]\n",
    "y_train_test=[] \n",
    "user='78afa995795e4d85b5d9ceeca43f5fef'  #checking the results to this user\n",
    "user_evaluate(user)"
   ]
  },
  {
   "cell_type": "code",
   "execution_count": 64,
   "metadata": {},
   "outputs": [
    {
     "name": "stdout",
     "output_type": "stream",
     "text": [
      "The log of transcripts from this user is:\n"
     ]
    },
    {
     "data": {
      "text/html": [
       "<div>\n",
       "<style scoped>\n",
       "    .dataframe tbody tr th:only-of-type {\n",
       "        vertical-align: middle;\n",
       "    }\n",
       "\n",
       "    .dataframe tbody tr th {\n",
       "        vertical-align: top;\n",
       "    }\n",
       "\n",
       "    .dataframe thead th {\n",
       "        text-align: right;\n",
       "    }\n",
       "</style>\n",
       "<table border=\"1\" class=\"dataframe\">\n",
       "  <thead>\n",
       "    <tr style=\"text-align: right;\">\n",
       "      <th></th>\n",
       "      <th>event</th>\n",
       "      <th>time</th>\n",
       "      <th>value</th>\n",
       "    </tr>\n",
       "  </thead>\n",
       "  <tbody>\n",
       "    <tr>\n",
       "      <th>0</th>\n",
       "      <td>offer received</td>\n",
       "      <td>0</td>\n",
       "      <td>{'offer id': '9b98b8c7a33c4b65b9aebfe6a799e6d9'}</td>\n",
       "    </tr>\n",
       "    <tr>\n",
       "      <th>15561</th>\n",
       "      <td>offer viewed</td>\n",
       "      <td>6</td>\n",
       "      <td>{'offer id': '9b98b8c7a33c4b65b9aebfe6a799e6d9'}</td>\n",
       "    </tr>\n",
       "    <tr>\n",
       "      <th>47582</th>\n",
       "      <td>transaction</td>\n",
       "      <td>132</td>\n",
       "      <td>{'amount': 19.89}</td>\n",
       "    </tr>\n",
       "    <tr>\n",
       "      <th>47583</th>\n",
       "      <td>offer completed</td>\n",
       "      <td>132</td>\n",
       "      <td>{'offer_id': '9b98b8c7a33c4b65b9aebfe6a799e6d9...</td>\n",
       "    </tr>\n",
       "    <tr>\n",
       "      <th>49502</th>\n",
       "      <td>transaction</td>\n",
       "      <td>144</td>\n",
       "      <td>{'amount': 17.78}</td>\n",
       "    </tr>\n",
       "    <tr>\n",
       "      <th>53176</th>\n",
       "      <td>offer received</td>\n",
       "      <td>168</td>\n",
       "      <td>{'offer id': '5a8bc65990b245e5a138643cd4eb9837'}</td>\n",
       "    </tr>\n",
       "    <tr>\n",
       "      <th>85291</th>\n",
       "      <td>offer viewed</td>\n",
       "      <td>216</td>\n",
       "      <td>{'offer id': '5a8bc65990b245e5a138643cd4eb9837'}</td>\n",
       "    </tr>\n",
       "    <tr>\n",
       "      <th>87134</th>\n",
       "      <td>transaction</td>\n",
       "      <td>222</td>\n",
       "      <td>{'amount': 19.67}</td>\n",
       "    </tr>\n",
       "    <tr>\n",
       "      <th>92104</th>\n",
       "      <td>transaction</td>\n",
       "      <td>240</td>\n",
       "      <td>{'amount': 29.72}</td>\n",
       "    </tr>\n",
       "    <tr>\n",
       "      <th>141566</th>\n",
       "      <td>transaction</td>\n",
       "      <td>378</td>\n",
       "      <td>{'amount': 23.93}</td>\n",
       "    </tr>\n",
       "    <tr>\n",
       "      <th>150598</th>\n",
       "      <td>offer received</td>\n",
       "      <td>408</td>\n",
       "      <td>{'offer id': 'ae264e3637204a6fb9bb56bc8210ddfd'}</td>\n",
       "    </tr>\n",
       "    <tr>\n",
       "      <th>163375</th>\n",
       "      <td>offer viewed</td>\n",
       "      <td>408</td>\n",
       "      <td>{'offer id': 'ae264e3637204a6fb9bb56bc8210ddfd'}</td>\n",
       "    </tr>\n",
       "    <tr>\n",
       "      <th>201572</th>\n",
       "      <td>offer received</td>\n",
       "      <td>504</td>\n",
       "      <td>{'offer id': 'f19421c1d4aa40978ebb69ca19b0e20d'}</td>\n",
       "    </tr>\n",
       "    <tr>\n",
       "      <th>218393</th>\n",
       "      <td>transaction</td>\n",
       "      <td>510</td>\n",
       "      <td>{'amount': 21.72}</td>\n",
       "    </tr>\n",
       "    <tr>\n",
       "      <th>218394</th>\n",
       "      <td>offer completed</td>\n",
       "      <td>510</td>\n",
       "      <td>{'offer_id': 'ae264e3637204a6fb9bb56bc8210ddfd...</td>\n",
       "    </tr>\n",
       "    <tr>\n",
       "      <th>218395</th>\n",
       "      <td>offer completed</td>\n",
       "      <td>510</td>\n",
       "      <td>{'offer_id': 'f19421c1d4aa40978ebb69ca19b0e20d...</td>\n",
       "    </tr>\n",
       "    <tr>\n",
       "      <th>230412</th>\n",
       "      <td>transaction</td>\n",
       "      <td>534</td>\n",
       "      <td>{'amount': 26.56}</td>\n",
       "    </tr>\n",
       "    <tr>\n",
       "      <th>262138</th>\n",
       "      <td>offer viewed</td>\n",
       "      <td>582</td>\n",
       "      <td>{'offer id': 'f19421c1d4aa40978ebb69ca19b0e20d'}</td>\n",
       "    </tr>\n",
       "  </tbody>\n",
       "</table>\n",
       "</div>"
      ],
      "text/plain": [
       "                  event  time  \\\n",
       "0        offer received     0   \n",
       "15561      offer viewed     6   \n",
       "47582       transaction   132   \n",
       "47583   offer completed   132   \n",
       "49502       transaction   144   \n",
       "53176    offer received   168   \n",
       "85291      offer viewed   216   \n",
       "87134       transaction   222   \n",
       "92104       transaction   240   \n",
       "141566      transaction   378   \n",
       "150598   offer received   408   \n",
       "163375     offer viewed   408   \n",
       "201572   offer received   504   \n",
       "218393      transaction   510   \n",
       "218394  offer completed   510   \n",
       "218395  offer completed   510   \n",
       "230412      transaction   534   \n",
       "262138     offer viewed   582   \n",
       "\n",
       "                                                    value  \n",
       "0        {'offer id': '9b98b8c7a33c4b65b9aebfe6a799e6d9'}  \n",
       "15561    {'offer id': '9b98b8c7a33c4b65b9aebfe6a799e6d9'}  \n",
       "47582                                   {'amount': 19.89}  \n",
       "47583   {'offer_id': '9b98b8c7a33c4b65b9aebfe6a799e6d9...  \n",
       "49502                                   {'amount': 17.78}  \n",
       "53176    {'offer id': '5a8bc65990b245e5a138643cd4eb9837'}  \n",
       "85291    {'offer id': '5a8bc65990b245e5a138643cd4eb9837'}  \n",
       "87134                                   {'amount': 19.67}  \n",
       "92104                                   {'amount': 29.72}  \n",
       "141566                                  {'amount': 23.93}  \n",
       "150598   {'offer id': 'ae264e3637204a6fb9bb56bc8210ddfd'}  \n",
       "163375   {'offer id': 'ae264e3637204a6fb9bb56bc8210ddfd'}  \n",
       "201572   {'offer id': 'f19421c1d4aa40978ebb69ca19b0e20d'}  \n",
       "218393                                  {'amount': 21.72}  \n",
       "218394  {'offer_id': 'ae264e3637204a6fb9bb56bc8210ddfd...  \n",
       "218395  {'offer_id': 'f19421c1d4aa40978ebb69ca19b0e20d...  \n",
       "230412                                  {'amount': 26.56}  \n",
       "262138   {'offer id': 'f19421c1d4aa40978ebb69ca19b0e20d'}  "
      ]
     },
     "execution_count": 64,
     "metadata": {},
     "output_type": "execute_result"
    }
   ],
   "source": [
    "print('The log of transcripts from this user is:')\n",
    "filter_transcript[filter_transcript['person']==user]\\\n",
    "            .loc[:,['event','time','value']].sort_values(by='time') "
   ]
  },
  {
   "cell_type": "code",
   "execution_count": 74,
   "metadata": {},
   "outputs": [
    {
     "name": "stdout",
     "output_type": "stream",
     "text": [
      "The user_evaluate function return that this user is indicated to these promos:\n",
      "y=[1, 0, 1, 0, 0, 0, 0, 0, 0, 1]\n"
     ]
    }
   ],
   "source": [
    "print('The user_evaluate function return that this user is indicated to these promos:')\n",
    "print('y={}'.format(list(np.array(y_train_test).reshape(-1))))"
   ]
  },
  {
   "cell_type": "markdown",
   "metadata": {},
   "source": [
    "      \n",
    "y[i]     offer_type :                    id  \n",
    "\n",
    "y[0]           bogo : ae264e3637204a6fb9bb56bc8210ddfd   \n",
    "y[1]           bogo : 4d5c57ea9a6940dd891ad53e9dbe8da0   \n",
    "y[2]           bogo : 9b98b8c7a33c4b65b9aebfe6a799e6d9   \n",
    "y[3]           bogo : f19421c1d4aa40978ebb69ca19b0e20d   \n",
    "y[4]       discount : 0b1e1539f2cc45b7b9fa7c272da2e1d7   \n",
    "y[5]       discount : 2298d6c36e964ae4a3e7e9706d1fb8c2   \n",
    "y[6]       discount : fafdcd668e3743c1bb461111dcafc2a4   \n",
    "y[7]       discount : 2906b810c7d4411798c6938adc9daaa5   \n",
    "y[8]  informational : 3f207df678b143eea3cee63160fa8bed   \n",
    "y[9]  informational : 5a8bc65990b245e5a138643cd4eb9837 \n",
    "\n",
    "The user received, viewed and completed the y[0] and y[2] bogo promos.\n",
    "Also, the user received, viewed and make a transaction during the influence period of 'informational' y[9].\n",
    "The y[3] bogo is not indicated because the user just viewed after completed."
   ]
  },
  {
   "cell_type": "markdown",
   "metadata": {},
   "source": [
    "# Loop through all users in the function user_evaluate:"
   ]
  },
  {
   "cell_type": "code",
   "execution_count": 75,
   "metadata": {},
   "outputs": [],
   "source": [
    "#mapping 'gender' from str to int, in order to use it in the classifier\n",
    "# F -> 1\n",
    "# M -> 2\n",
    "# O -> 3\n",
    "profile['gender']=profile['gender'].map(lambda x:1 if x =='F' else (2 if x=='M' else 3))"
   ]
  },
  {
   "cell_type": "code",
   "execution_count": 76,
   "metadata": {},
   "outputs": [
    {
     "name": "stderr",
     "output_type": "stream",
     "text": [
      "100% (14825 of 14825) |##################| Elapsed Time: 0:07:22 Time:  0:07:22\n"
     ]
    }
   ],
   "source": [
    "#Including a progress bar and going through the loop\n",
    "\n",
    "import time\n",
    "import progressbar\n",
    "with progressbar.ProgressBar(max_value=len(list(filter_users))) as bar:\n",
    "    contbar=0\n",
    "    for user in list(filter_users):    \n",
    "        user_evaluate(user)\n",
    "        bar.update(contbar)\n",
    "        contbar=contbar+1"
   ]
  },
  {
   "cell_type": "markdown",
   "metadata": {},
   "source": [
    "# Saving the data with features (users infos) and labels (promos indications to each user):"
   ]
  },
  {
   "cell_type": "code",
   "execution_count": 81,
   "metadata": {},
   "outputs": [],
   "source": [
    "import pickle\n",
    "with open('features.pkl', 'wb') as file:\n",
    "    pickle.dump(x_train_test, file)\n",
    "    \n",
    "with open('labels.pkl', 'wb') as file:\n",
    "    pickle.dump(y_train_test, file)"
   ]
  }
 ],
 "metadata": {
  "kernelspec": {
   "display_name": "Python 3",
   "language": "python",
   "name": "python3"
  },
  "language_info": {
   "codemirror_mode": {
    "name": "ipython",
    "version": 3
   },
   "file_extension": ".py",
   "mimetype": "text/x-python",
   "name": "python",
   "nbconvert_exporter": "python",
   "pygments_lexer": "ipython3",
   "version": "3.7.3"
  }
 },
 "nbformat": 4,
 "nbformat_minor": 4
}
